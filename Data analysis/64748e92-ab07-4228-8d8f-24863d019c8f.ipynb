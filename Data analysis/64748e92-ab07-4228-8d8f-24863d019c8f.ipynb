{
 "cells": [
  {
   "cell_type": "markdown",
   "metadata": {},
   "source": [
    "---\n",
    "## Комментарий от наставника\n",
    "\n",
    "Привет! Спасибо, что прислал задание:) Поздравляю с приближением к концу первого модуля. Мои комментарии, как обычно, обозначены пометкой **Комментарий от наставника**. Пострайся учесть эти комментарии.\n",
    "\n",
    "---"
   ]
  },
  {
   "cell_type": "markdown",
   "metadata": {},
   "source": [
    "---\n",
    "## Комментарий от наставника\n",
    "\n",
    "\n",
    "Стоит делать краткое вступление в работу, описание того, что надо делать. В работе необходимо приводить краткий план того, что надо сделать (если этот план имеется), а также информацию о входных данных: какие столбцы есть в таблице, их названия и какую информацию они несут. Также название работы лучше отображать в отдельной ячейке и делать крупный шрифт (заголовок). Так работа выглядит презентабельно.\n",
    "\n",
    "---"
   ]
  },
  {
   "cell_type": "markdown",
   "metadata": {},
   "source": [
    "# Библиотеки для работы"
   ]
  },
  {
   "cell_type": "code",
   "execution_count": 1,
   "metadata": {},
   "outputs": [
    {
     "data": {
      "text/html": [
       "        <script type=\"text/javascript\">\n",
       "        window.PlotlyConfig = {MathJaxConfig: 'local'};\n",
       "        if (window.MathJax) {MathJax.Hub.Config({SVG: {font: \"STIX-Web\"}});}\n",
       "        if (typeof require !== 'undefined') {\n",
       "        require.undef(\"plotly\");\n",
       "        requirejs.config({\n",
       "            paths: {\n",
       "                'plotly': ['https://cdn.plot.ly/plotly-latest.min']\n",
       "            }\n",
       "        });\n",
       "        require(['plotly'], function(Plotly) {\n",
       "            window._Plotly = Plotly;\n",
       "        });\n",
       "        }\n",
       "        </script>\n",
       "        "
      ]
     },
     "metadata": {},
     "output_type": "display_data"
    }
   ],
   "source": [
    "# отключим предупреждения Anaconda\n",
    "import warnings\n",
    "warnings.simplefilter('ignore')\n",
    "\n",
    "# будем отображать графики прямо в jupyter'e\n",
    "%matplotlib inline\n",
    "import seaborn as sns\n",
    "import matplotlib.pyplot as plt\n",
    "#графики в svg выглядят более четкими\n",
    "%config InlineBackend.figure_format = 'svg' \n",
    "\n",
    "#увеличим дефолтный размер графиков\n",
    "from pylab import rcParams\n",
    "rcParams['figure.figsize'] = 12, 5\n",
    "import pandas as pd\n",
    "import numpy as np\n",
    "\n",
    "from plotly.offline import download_plotlyjs, init_notebook_mode, plot, iplot\n",
    "import plotly\n",
    "import plotly.graph_objs as go\n",
    "\n",
    "init_notebook_mode(connected=True)\n",
    "\n",
    "from scipy import stats as st"
   ]
  },
  {
   "cell_type": "markdown",
   "metadata": {},
   "source": [
    "# Ознакомление с данными"
   ]
  },
  {
   "cell_type": "code",
   "execution_count": 2,
   "metadata": {},
   "outputs": [
    {
     "ename": "FileNotFoundError",
     "evalue": "[Errno 2] No such file or directory: '/datasets/games.csv'",
     "output_type": "error",
     "traceback": [
      "\u001b[0;31m---------------------------------------------------------------------------\u001b[0m",
      "\u001b[0;31mFileNotFoundError\u001b[0m                         Traceback (most recent call last)",
      "\u001b[0;32m<ipython-input-2-a46cd745abce>\u001b[0m in \u001b[0;36m<module>\u001b[0;34m\u001b[0m\n\u001b[0;32m----> 1\u001b[0;31m \u001b[0mgames\u001b[0m \u001b[0;34m=\u001b[0m \u001b[0mpd\u001b[0m\u001b[0;34m.\u001b[0m\u001b[0mread_csv\u001b[0m\u001b[0;34m(\u001b[0m\u001b[0;34m'/datasets/games.csv'\u001b[0m\u001b[0;34m)\u001b[0m\u001b[0;34m.\u001b[0m\u001b[0mcopy\u001b[0m\u001b[0;34m(\u001b[0m\u001b[0;34m)\u001b[0m\u001b[0;34m\u001b[0m\u001b[0;34m\u001b[0m\u001b[0m\n\u001b[0m",
      "\u001b[0;32m/Library/Python/3.7/site-packages/pandas/io/parsers.py\u001b[0m in \u001b[0;36mread_csv\u001b[0;34m(filepath_or_buffer, sep, delimiter, header, names, index_col, usecols, squeeze, prefix, mangle_dupe_cols, dtype, engine, converters, true_values, false_values, skipinitialspace, skiprows, skipfooter, nrows, na_values, keep_default_na, na_filter, verbose, skip_blank_lines, parse_dates, infer_datetime_format, keep_date_col, date_parser, dayfirst, cache_dates, iterator, chunksize, compression, thousands, decimal, lineterminator, quotechar, quoting, doublequote, escapechar, comment, encoding, dialect, error_bad_lines, warn_bad_lines, delim_whitespace, low_memory, memory_map, float_precision)\u001b[0m\n\u001b[1;32m    684\u001b[0m     )\n\u001b[1;32m    685\u001b[0m \u001b[0;34m\u001b[0m\u001b[0m\n\u001b[0;32m--> 686\u001b[0;31m     \u001b[0;32mreturn\u001b[0m \u001b[0m_read\u001b[0m\u001b[0;34m(\u001b[0m\u001b[0mfilepath_or_buffer\u001b[0m\u001b[0;34m,\u001b[0m \u001b[0mkwds\u001b[0m\u001b[0;34m)\u001b[0m\u001b[0;34m\u001b[0m\u001b[0;34m\u001b[0m\u001b[0m\n\u001b[0m\u001b[1;32m    687\u001b[0m \u001b[0;34m\u001b[0m\u001b[0m\n\u001b[1;32m    688\u001b[0m \u001b[0;34m\u001b[0m\u001b[0m\n",
      "\u001b[0;32m/Library/Python/3.7/site-packages/pandas/io/parsers.py\u001b[0m in \u001b[0;36m_read\u001b[0;34m(filepath_or_buffer, kwds)\u001b[0m\n\u001b[1;32m    450\u001b[0m \u001b[0;34m\u001b[0m\u001b[0m\n\u001b[1;32m    451\u001b[0m     \u001b[0;31m# Create the parser.\u001b[0m\u001b[0;34m\u001b[0m\u001b[0;34m\u001b[0m\u001b[0;34m\u001b[0m\u001b[0m\n\u001b[0;32m--> 452\u001b[0;31m     \u001b[0mparser\u001b[0m \u001b[0;34m=\u001b[0m \u001b[0mTextFileReader\u001b[0m\u001b[0;34m(\u001b[0m\u001b[0mfp_or_buf\u001b[0m\u001b[0;34m,\u001b[0m \u001b[0;34m**\u001b[0m\u001b[0mkwds\u001b[0m\u001b[0;34m)\u001b[0m\u001b[0;34m\u001b[0m\u001b[0;34m\u001b[0m\u001b[0m\n\u001b[0m\u001b[1;32m    453\u001b[0m \u001b[0;34m\u001b[0m\u001b[0m\n\u001b[1;32m    454\u001b[0m     \u001b[0;32mif\u001b[0m \u001b[0mchunksize\u001b[0m \u001b[0;32mor\u001b[0m \u001b[0miterator\u001b[0m\u001b[0;34m:\u001b[0m\u001b[0;34m\u001b[0m\u001b[0;34m\u001b[0m\u001b[0m\n",
      "\u001b[0;32m/Library/Python/3.7/site-packages/pandas/io/parsers.py\u001b[0m in \u001b[0;36m__init__\u001b[0;34m(self, f, engine, **kwds)\u001b[0m\n\u001b[1;32m    934\u001b[0m             \u001b[0mself\u001b[0m\u001b[0;34m.\u001b[0m\u001b[0moptions\u001b[0m\u001b[0;34m[\u001b[0m\u001b[0;34m\"has_index_names\"\u001b[0m\u001b[0;34m]\u001b[0m \u001b[0;34m=\u001b[0m \u001b[0mkwds\u001b[0m\u001b[0;34m[\u001b[0m\u001b[0;34m\"has_index_names\"\u001b[0m\u001b[0;34m]\u001b[0m\u001b[0;34m\u001b[0m\u001b[0;34m\u001b[0m\u001b[0m\n\u001b[1;32m    935\u001b[0m \u001b[0;34m\u001b[0m\u001b[0m\n\u001b[0;32m--> 936\u001b[0;31m         \u001b[0mself\u001b[0m\u001b[0;34m.\u001b[0m\u001b[0m_make_engine\u001b[0m\u001b[0;34m(\u001b[0m\u001b[0mself\u001b[0m\u001b[0;34m.\u001b[0m\u001b[0mengine\u001b[0m\u001b[0;34m)\u001b[0m\u001b[0;34m\u001b[0m\u001b[0;34m\u001b[0m\u001b[0m\n\u001b[0m\u001b[1;32m    937\u001b[0m \u001b[0;34m\u001b[0m\u001b[0m\n\u001b[1;32m    938\u001b[0m     \u001b[0;32mdef\u001b[0m \u001b[0mclose\u001b[0m\u001b[0;34m(\u001b[0m\u001b[0mself\u001b[0m\u001b[0;34m)\u001b[0m\u001b[0;34m:\u001b[0m\u001b[0;34m\u001b[0m\u001b[0;34m\u001b[0m\u001b[0m\n",
      "\u001b[0;32m/Library/Python/3.7/site-packages/pandas/io/parsers.py\u001b[0m in \u001b[0;36m_make_engine\u001b[0;34m(self, engine)\u001b[0m\n\u001b[1;32m   1166\u001b[0m     \u001b[0;32mdef\u001b[0m \u001b[0m_make_engine\u001b[0m\u001b[0;34m(\u001b[0m\u001b[0mself\u001b[0m\u001b[0;34m,\u001b[0m \u001b[0mengine\u001b[0m\u001b[0;34m=\u001b[0m\u001b[0;34m\"c\"\u001b[0m\u001b[0;34m)\u001b[0m\u001b[0;34m:\u001b[0m\u001b[0;34m\u001b[0m\u001b[0;34m\u001b[0m\u001b[0m\n\u001b[1;32m   1167\u001b[0m         \u001b[0;32mif\u001b[0m \u001b[0mengine\u001b[0m \u001b[0;34m==\u001b[0m \u001b[0;34m\"c\"\u001b[0m\u001b[0;34m:\u001b[0m\u001b[0;34m\u001b[0m\u001b[0;34m\u001b[0m\u001b[0m\n\u001b[0;32m-> 1168\u001b[0;31m             \u001b[0mself\u001b[0m\u001b[0;34m.\u001b[0m\u001b[0m_engine\u001b[0m \u001b[0;34m=\u001b[0m \u001b[0mCParserWrapper\u001b[0m\u001b[0;34m(\u001b[0m\u001b[0mself\u001b[0m\u001b[0;34m.\u001b[0m\u001b[0mf\u001b[0m\u001b[0;34m,\u001b[0m \u001b[0;34m**\u001b[0m\u001b[0mself\u001b[0m\u001b[0;34m.\u001b[0m\u001b[0moptions\u001b[0m\u001b[0;34m)\u001b[0m\u001b[0;34m\u001b[0m\u001b[0;34m\u001b[0m\u001b[0m\n\u001b[0m\u001b[1;32m   1169\u001b[0m         \u001b[0;32melse\u001b[0m\u001b[0;34m:\u001b[0m\u001b[0;34m\u001b[0m\u001b[0;34m\u001b[0m\u001b[0m\n\u001b[1;32m   1170\u001b[0m             \u001b[0;32mif\u001b[0m \u001b[0mengine\u001b[0m \u001b[0;34m==\u001b[0m \u001b[0;34m\"python\"\u001b[0m\u001b[0;34m:\u001b[0m\u001b[0;34m\u001b[0m\u001b[0;34m\u001b[0m\u001b[0m\n",
      "\u001b[0;32m/Library/Python/3.7/site-packages/pandas/io/parsers.py\u001b[0m in \u001b[0;36m__init__\u001b[0;34m(self, src, **kwds)\u001b[0m\n\u001b[1;32m   1996\u001b[0m         \u001b[0mkwds\u001b[0m\u001b[0;34m[\u001b[0m\u001b[0;34m\"usecols\"\u001b[0m\u001b[0;34m]\u001b[0m \u001b[0;34m=\u001b[0m \u001b[0mself\u001b[0m\u001b[0;34m.\u001b[0m\u001b[0musecols\u001b[0m\u001b[0;34m\u001b[0m\u001b[0;34m\u001b[0m\u001b[0m\n\u001b[1;32m   1997\u001b[0m \u001b[0;34m\u001b[0m\u001b[0m\n\u001b[0;32m-> 1998\u001b[0;31m         \u001b[0mself\u001b[0m\u001b[0;34m.\u001b[0m\u001b[0m_reader\u001b[0m \u001b[0;34m=\u001b[0m \u001b[0mparsers\u001b[0m\u001b[0;34m.\u001b[0m\u001b[0mTextReader\u001b[0m\u001b[0;34m(\u001b[0m\u001b[0msrc\u001b[0m\u001b[0;34m,\u001b[0m \u001b[0;34m**\u001b[0m\u001b[0mkwds\u001b[0m\u001b[0;34m)\u001b[0m\u001b[0;34m\u001b[0m\u001b[0;34m\u001b[0m\u001b[0m\n\u001b[0m\u001b[1;32m   1999\u001b[0m         \u001b[0mself\u001b[0m\u001b[0;34m.\u001b[0m\u001b[0munnamed_cols\u001b[0m \u001b[0;34m=\u001b[0m \u001b[0mself\u001b[0m\u001b[0;34m.\u001b[0m\u001b[0m_reader\u001b[0m\u001b[0;34m.\u001b[0m\u001b[0munnamed_cols\u001b[0m\u001b[0;34m\u001b[0m\u001b[0;34m\u001b[0m\u001b[0m\n\u001b[1;32m   2000\u001b[0m \u001b[0;34m\u001b[0m\u001b[0m\n",
      "\u001b[0;32mpandas/_libs/parsers.pyx\u001b[0m in \u001b[0;36mpandas._libs.parsers.TextReader.__cinit__\u001b[0;34m()\u001b[0m\n",
      "\u001b[0;32mpandas/_libs/parsers.pyx\u001b[0m in \u001b[0;36mpandas._libs.parsers.TextReader._setup_parser_source\u001b[0;34m()\u001b[0m\n",
      "\u001b[0;31mFileNotFoundError\u001b[0m: [Errno 2] No such file or directory: '/datasets/games.csv'"
     ]
    }
   ],
   "source": [
    "games = pd.read_csv('/datasets/games.csv').copy()"
   ]
  },
  {
   "cell_type": "code",
   "execution_count": null,
   "metadata": {},
   "outputs": [],
   "source": [
    "games.info()"
   ]
  },
  {
   "cell_type": "code",
   "execution_count": null,
   "metadata": {},
   "outputs": [],
   "source": [
    "games.columns = map(str.lower, games.columns)"
   ]
  },
  {
   "cell_type": "code",
   "execution_count": null,
   "metadata": {},
   "outputs": [],
   "source": [
    "games"
   ]
  },
  {
   "cell_type": "markdown",
   "metadata": {},
   "source": [
    "### Датафрейм довольно большой, много пропусков. Особенно в полях с рейтингом (возрастным, пользователей, критиков). Есть еще ошибка в формате: дата с форматом float64, оценка пользователей - текст. "
   ]
  },
  {
   "cell_type": "markdown",
   "metadata": {},
   "source": [
    "---\n",
    "## Комментарий от наставника\n",
    "\n",
    "Подумай также о возможных причинах появления пропусков, а также о том, являются ли они случайными или нет. Можно высказать варианты их обработки. Также важно делать выводы после каждого пункта анализа. \n",
    "\n",
    "Первый взгляд на таблицу выполнен.\n",
    "\n",
    "---"
   ]
  },
  {
   "cell_type": "markdown",
   "metadata": {},
   "source": [
    "# Подготовка данных"
   ]
  },
  {
   "cell_type": "code",
   "execution_count": null,
   "metadata": {},
   "outputs": [],
   "source": [
    "games['year_of_release'] = pd.to_datetime(games['year_of_release'] , format = \"%Y\") #сменим тип данных "
   ]
  },
  {
   "cell_type": "code",
   "execution_count": null,
   "metadata": {},
   "outputs": [],
   "source": [
    "games.query('user_score == \"tbd\"') "
   ]
  },
  {
   "cell_type": "markdown",
   "metadata": {},
   "source": [
    "### TBD - отсутствие рейтинга, следственно его лучше заменить на NaN, так как по сути он указывает на отсутствие рейтинга. "
   ]
  },
  {
   "cell_type": "markdown",
   "metadata": {},
   "source": [
    "---\n",
    "## Комментарий от наставника\n",
    "\n",
    "Верно, по своей сути tbd и является Nan. \n",
    "\n",
    "---"
   ]
  },
  {
   "cell_type": "code",
   "execution_count": null,
   "metadata": {},
   "outputs": [],
   "source": [
    "games = games.replace('tbd', np.nan)"
   ]
  },
  {
   "cell_type": "code",
   "execution_count": null,
   "metadata": {},
   "outputs": [],
   "source": [
    "games['user_score'] = games['user_score'].astype('float64')"
   ]
  },
  {
   "cell_type": "code",
   "execution_count": null,
   "metadata": {},
   "outputs": [],
   "source": [
    "games.isna().sum() #посмотрим пропуски "
   ]
  },
  {
   "cell_type": "code",
   "execution_count": null,
   "metadata": {},
   "outputs": [],
   "source": [
    "games = games.dropna(subset = ['name', 'year_of_release' ,'genre'])"
   ]
  },
  {
   "cell_type": "markdown",
   "metadata": {},
   "source": [
    "### Пропуски можно безболезненно выкинуть из столбцов 'name', 'year_of_release' ,'genre'. В остальных столбцах лучше оставить пропуски, не меняя на 0. "
   ]
  },
  {
   "cell_type": "markdown",
   "metadata": {},
   "source": [
    "## Добавим новый столбец с общими продажами по миру "
   ]
  },
  {
   "cell_type": "code",
   "execution_count": null,
   "metadata": {},
   "outputs": [],
   "source": [
    "games['world_sales'] = games['na_sales']+games['eu_sales']+games['jp_sales']+games['other_sales']"
   ]
  },
  {
   "cell_type": "code",
   "execution_count": null,
   "metadata": {},
   "outputs": [],
   "source": [
    "games['year_of_release'].hist()\n",
    "plt.show();"
   ]
  },
  {
   "cell_type": "markdown",
   "metadata": {},
   "source": [
    "---\n",
    "## Комментарий от наставника\n",
    "\n",
    "Да, лучше работать с меньшим количеством данных хорошего качества. Можно использовать индикаторные значения для заполнения пропущенных значений. Так мы просто пометим места пропусков. Главное помнить об этом и не использовать их в анализе.\n",
    "\n",
    "---"
   ]
  },
  {
   "cell_type": "markdown",
   "metadata": {},
   "source": [
    "# Анализ современности "
   ]
  },
  {
   "cell_type": "markdown",
   "metadata": {},
   "source": [
    "## Для анализа отберем современные данные, чтобы лучше понимать ситуацию на рынке на сегодняшний день"
   ]
  },
  {
   "cell_type": "code",
   "execution_count": null,
   "metadata": {},
   "outputs": [],
   "source": [
    "modern_games = games.query('year_of_release > 2010')\n",
    "modern_games"
   ]
  },
  {
   "cell_type": "markdown",
   "metadata": {},
   "source": [
    "---\n",
    "## Комментарий от наставника\n",
    "\n",
    "Выбран правильный актуальный год. \n",
    "\n",
    "---"
   ]
  },
  {
   "cell_type": "markdown",
   "metadata": {},
   "source": [
    "### Посмотрим платформы по популярности"
   ]
  },
  {
   "cell_type": "code",
   "execution_count": null,
   "metadata": {},
   "outputs": [],
   "source": [
    "modern_games['platform'].value_counts().plot(kind='bar');\n",
    "plt.title('Игровые платформы')\n",
    "plt.show();"
   ]
  },
  {
   "cell_type": "markdown",
   "metadata": {},
   "source": [
    "### Больше всего игр выходило для приставок PS, так же много игры у приставок от майкрософт. "
   ]
  },
  {
   "cell_type": "markdown",
   "metadata": {},
   "source": [
    "### Объем продаж по платформам"
   ]
  },
  {
   "cell_type": "code",
   "execution_count": null,
   "metadata": {},
   "outputs": [],
   "source": [
    "modern_games.pivot_table(index = 'platform', \n",
    "                 values = 'world_sales', \n",
    "                 aggfunc ='sum').sort_values(by='world_sales',\n",
    "                                             ascending = False).head(10).plot(kind='bar');\n",
    "plt.title('Продажи по платформам')\n",
    "plt.ylabel('Млн. $')\n",
    "plt.xlabel('Платформы')\n",
    "plt.show();"
   ]
  },
  {
   "cell_type": "markdown",
   "metadata": {},
   "source": [
    "### Ситуация похожая с количеством игр: чем больше игр выпускается на платформе, тем больше суммарные продажи. "
   ]
  },
  {
   "cell_type": "markdown",
   "metadata": {},
   "source": [
    "## Посмотрим на продажи поподробнее"
   ]
  },
  {
   "cell_type": "code",
   "execution_count": null,
   "metadata": {},
   "outputs": [],
   "source": [
    "sales = modern_games.pivot_table(index = ['platform', 'year_of_release'], \n",
    "                                 values = 'world_sales', \n",
    "                                 aggfunc = 'sum')\n",
    "sales = sales.reset_index()"
   ]
  },
  {
   "cell_type": "code",
   "execution_count": null,
   "metadata": {},
   "outputs": [],
   "source": [
    "sns.boxplot(x=\"platform\", y=\"world_sales\", data=sales, palette='deep')\n",
    "plt.show();"
   ]
  },
  {
   "cell_type": "code",
   "execution_count": null,
   "metadata": {},
   "outputs": [],
   "source": [
    "sns.lineplot(x=\"year_of_release\", y=\"world_sales\", hue = 'platform', data=sales, palette=\"deep\");\n",
    "plt.title('Продажи по платформам')\n",
    "plt.ylabel('Млн. $')\n",
    "plt.xlabel('Платформы')\n",
    "plt.show();"
   ]
  },
  {
   "cell_type": "markdown",
   "metadata": {},
   "source": [
    "### Динамика у всех платформ всегда одна и та же: сразу после выхода платформы разработчики делают большое количество игр, заполняя нишу, продажи быстро и уверенно растут, но продажи цикличны, после сильного роста они замедляются и начиают падать. Это связано с устареванием платформы, разработчики не тратят много сил на разработку больших проектов, сосредотачиваются на обновлениях и DLC. Как только выходит следующее поколение в платформе, цикл повторяется."
   ]
  },
  {
   "cell_type": "markdown",
   "metadata": {},
   "source": [
    "---\n",
    "## Комментарий от наставника\n",
    "\n",
    "Какова средняя продолжительность существования платформы?  \n",
    "\n",
    "---"
   ]
  },
  {
   "cell_type": "markdown",
   "metadata": {},
   "source": [
    "## Взаимосвязь данных "
   ]
  },
  {
   "cell_type": "code",
   "execution_count": null,
   "metadata": {
    "scrolled": false
   },
   "outputs": [],
   "source": [
    "sns.pairplot(modern_games, vars=[\"critic_score\",\n",
    "                                 \"user_score\", \n",
    "                                 'world_sales'], markers = \"+\")\n",
    "plt.show();"
   ]
  },
  {
   "cell_type": "code",
   "execution_count": null,
   "metadata": {},
   "outputs": [],
   "source": [
    "modern_games[[\"critic_score\",\n",
    "                                 \"user_score\", \n",
    "                                 'world_sales']].corr()"
   ]
  },
  {
   "cell_type": "markdown",
   "metadata": {},
   "source": [
    "### Видно весьма слабую взаимосвязь между оценками и продажами по миру, но самая сильная связь между оценками критиков и пользователей. То ли пользователи вторят критикам, то ли критики весьма близки к народу."
   ]
  },
  {
   "cell_type": "markdown",
   "metadata": {},
   "source": [
    "---\n",
    "## Комментарий от наставника\n",
    "\n",
    "Результат верный. Здорово, что высказано предположение о таких результатах. Стоит рассмотреть некоторые платформы в отдельности. \n",
    "Возможно, ситуация у них разнится. \n",
    "\n",
    "---"
   ]
  },
  {
   "cell_type": "markdown",
   "metadata": {},
   "source": [
    "# Жанры "
   ]
  },
  {
   "cell_type": "code",
   "execution_count": null,
   "metadata": {},
   "outputs": [],
   "source": [
    "# создаем Box trace для каждого жанра из наших данных\n",
    "data = []\n",
    "for genre in modern_games.genre.unique():\n",
    "    data.append(\n",
    "        go.Box(y=modern_games[(modern_games.genre==genre) & (modern_games.world_sales <2.5)].world_sales, name=genre)\n",
    "    )\n",
    "\n",
    "# визуализируем данные\n",
    "iplot(data, show_link = False)\n"
   ]
  },
  {
   "cell_type": "markdown",
   "metadata": {},
   "source": [
    "### Уберем сильные выбросы (что больше 2,5 миллионов) и посмотрим на продажи по жанрам. Самые большие продажи в шутерах, платформерах и и спортивных играх, следом идут гонки экшн и файтинги. Сильно мало продаж у приключенческих игр и пазлов. "
   ]
  },
  {
   "cell_type": "markdown",
   "metadata": {},
   "source": [
    "---\n",
    "## Комментарий от наставника\n",
    "\n",
    "Правильно, но не стоит забывать, что производство игр в жанрах Action или Shooter обходится сильно дороже, чем производство Puzzle-игр. \n",
    "\n",
    "---"
   ]
  },
  {
   "cell_type": "markdown",
   "metadata": {},
   "source": [
    "# Продажи по регионам"
   ]
  },
  {
   "cell_type": "code",
   "execution_count": null,
   "metadata": {},
   "outputs": [],
   "source": [
    "region_sales = modern_games.pivot_table(index=['platform','genre'], values = ['na_sales',\n",
    "                                                     'eu_sales',\n",
    "                                                     'jp_sales', \n",
    "                                                     'other_sales', 'world_sales'], \n",
    "                        aggfunc = 'sum').reset_index()\n",
    "region_sales"
   ]
  },
  {
   "cell_type": "markdown",
   "metadata": {},
   "source": [
    "## Посмотрим на пользователей из Японии. "
   ]
  },
  {
   "cell_type": "code",
   "execution_count": null,
   "metadata": {},
   "outputs": [],
   "source": [
    "j_users = region_sales[['platform', 'genre','jp_sales']] .sort_values(by = 'jp_sales', ascending = False).head()\n",
    "j_users"
   ]
  },
  {
   "cell_type": "code",
   "execution_count": null,
   "metadata": {},
   "outputs": [],
   "source": [
    "sns.catplot(\n",
    "    x=\"platform\", y=\"jp_sales\", hue=\"genre\", data=j_users, palette=\"deep\", kind = 'bar')\n",
    "plt.show();"
   ]
  },
  {
   "cell_type": "markdown",
   "metadata": {},
   "source": [
    "### Больше всего продаж в японии на платформах 3DS и PS3, причем чаще всего играют в жанры RPG, экшн и симуляторы. Посмотрим на топ-5 жанров. "
   ]
  },
  {
   "cell_type": "code",
   "execution_count": null,
   "metadata": {},
   "outputs": [],
   "source": [
    "j_users_genre = region_sales.pivot_table(index='genre', values ='jp_sales', \n",
    "                                         aggfunc = 'sum') .sort_values(by = 'jp_sales',\n",
    "                                                                       ascending = False).head().reset_index()"
   ]
  },
  {
   "cell_type": "code",
   "execution_count": null,
   "metadata": {},
   "outputs": [],
   "source": [
    "sns.catplot(\n",
    "    x=\"genre\", y=\"jp_sales\",  data=j_users_genre, palette=\"deep\", kind = 'bar')\n",
    "plt.show();"
   ]
  },
  {
   "cell_type": "code",
   "execution_count": null,
   "metadata": {},
   "outputs": [],
   "source": [
    "rating_pivot_jp  = modern_games.pivot_table(index = 'rating',\n",
    "                                            values = 'jp_sales', aggfunc = 'sum').sort_values(by = 'jp_sales',\n",
    "                                                                                              ascending = False).head().reset_index()\n",
    "sns.catplot(\n",
    "    x=\"rating\", y=\"jp_sales\",  data=rating_pivot_jp, palette=\"deep\", kind = 'bar')\n",
    "plt.show();"
   ]
  },
  {
   "cell_type": "markdown",
   "metadata": {},
   "source": [
    "### В Японии больше всего играют в знаменитые японские RPG и экшн игры, сразу за ними игры смешенного жанра и платформеры в файтингами - стандартные жанры для японского рынка.  В Японии видно так же, что больше всего продаж сосредоточено в играх с рейтингом E и M. "
   ]
  },
  {
   "cell_type": "markdown",
   "metadata": {},
   "source": [
    "## Пользователи северной Америки"
   ]
  },
  {
   "cell_type": "code",
   "execution_count": null,
   "metadata": {},
   "outputs": [],
   "source": [
    "na_users = region_sales[['platform','genre','na_sales']] .sort_values(by = 'na_sales', ascending = False).head()\n",
    "na_users"
   ]
  },
  {
   "cell_type": "code",
   "execution_count": null,
   "metadata": {},
   "outputs": [],
   "source": [
    "sns.catplot(\n",
    "    x=\"platform\", y=\"na_sales\", hue=\"genre\", data=na_users, palette=\"deep\", kind = 'bar')\n",
    "plt.show();"
   ]
  },
  {
   "cell_type": "markdown",
   "metadata": {},
   "source": [
    "### Больше всего продаж в Америке приходится на платформах от майкрософт и PS3, причем чаще всего играют в жанры экшн и шутеры. Американцы поддерживают внутренний своего производителя, а японцы своего - все логично. Так же в глаза бросается разница в объемах - рынок Америки сильно больше.  Посмотрим на топ-5 жанров. "
   ]
  },
  {
   "cell_type": "code",
   "execution_count": null,
   "metadata": {},
   "outputs": [],
   "source": [
    "na_users_genre = region_sales.pivot_table(index='genre', values ='na_sales',\n",
    "                                          aggfunc = 'sum') .sort_values(by = 'na_sales',\n",
    "                                                                        ascending = False).head().reset_index()\n",
    "na_users_genre"
   ]
  },
  {
   "cell_type": "code",
   "execution_count": null,
   "metadata": {},
   "outputs": [],
   "source": [
    "sns.catplot(\n",
    "    x=\"genre\", y=\"na_sales\",  data=na_users_genre, palette=\"deep\", kind = 'bar')\n",
    "plt.show();"
   ]
  },
  {
   "cell_type": "code",
   "execution_count": null,
   "metadata": {},
   "outputs": [],
   "source": [
    "rating_pivot_na  = modern_games.pivot_table(index = 'rating',\n",
    "                                            values = 'na_sales', aggfunc = 'sum').sort_values(by='na_sales', \n",
    "                                                                                              ascending = False).head().reset_index()\n",
    "sns.catplot(\n",
    "    x=\"rating\", y=\"na_sales\",  data=rating_pivot_na, palette=\"deep\", kind = 'bar')\n",
    "plt.show();"
   ]
  },
  {
   "cell_type": "markdown",
   "metadata": {},
   "source": [
    "### Самые популярные - экшн и шутеры, так же американцы любят очень спортивные игры. Меняются данные по рейтингу - в лидеры вышли игры с рейтингом M, расчитанные на аудиторию от 17 лет.  "
   ]
  },
  {
   "cell_type": "markdown",
   "metadata": {},
   "source": [
    "## Пользователи Еропы "
   ]
  },
  {
   "cell_type": "code",
   "execution_count": null,
   "metadata": {},
   "outputs": [],
   "source": [
    "eu_users = region_sales[['platform','genre','eu_sales']] .sort_values(by = 'eu_sales', ascending = False).head()\n",
    "eu_users"
   ]
  },
  {
   "cell_type": "code",
   "execution_count": null,
   "metadata": {},
   "outputs": [],
   "source": [
    "sns.catplot(\n",
    "    x=\"platform\", y=\"eu_sales\",  data=eu_users, palette=\"deep\", kind = 'bar')\n",
    "plt.show();"
   ]
  },
  {
   "cell_type": "markdown",
   "metadata": {},
   "source": [
    "### По платформам европейцы предпочитают PS, объем рынка побольше чем в Японии, поменьше чем в Америке. "
   ]
  },
  {
   "cell_type": "code",
   "execution_count": null,
   "metadata": {},
   "outputs": [],
   "source": [
    "eu_users_genre = region_sales.pivot_table(index='genre',\n",
    "                                          values ='eu_sales', \n",
    "                                          aggfunc = 'sum') .sort_values(by = 'eu_sales',\n",
    "                                                                        ascending = False).head().reset_index()"
   ]
  },
  {
   "cell_type": "code",
   "execution_count": null,
   "metadata": {},
   "outputs": [],
   "source": [
    "sns.catplot(\n",
    "    x=\"genre\", y=\"eu_sales\",  data=eu_users_genre, palette=\"deep\", kind = 'bar')\n",
    "plt.show();"
   ]
  },
  {
   "cell_type": "markdown",
   "metadata": {},
   "source": [
    "### Жанры не сильно отличаются от Америки, но добавились гонки - европейцы традиционно их любят. "
   ]
  },
  {
   "cell_type": "code",
   "execution_count": null,
   "metadata": {},
   "outputs": [],
   "source": [
    "rating_pivot_eu  = modern_games.pivot_table(index = 'rating',\n",
    "                                         values = 'eu_sales', \n",
    "                                         aggfunc = 'sum').sort_values(by='eu_sales', ascending = False).head().reset_index()"
   ]
  },
  {
   "cell_type": "code",
   "execution_count": null,
   "metadata": {},
   "outputs": [],
   "source": [
    "sns.catplot(\n",
    "    x=\"rating\", y=\"eu_sales\",  data=rating_pivot_eu, palette=\"deep\", kind = 'bar')\n",
    "plt.show();"
   ]
  },
  {
   "cell_type": "markdown",
   "metadata": {},
   "source": [
    "### Распределение выручки по рейтингу тоже не сильно отличается от Америки, разве что чуть больше продажи по играм для подростков - рейтинг T. "
   ]
  },
  {
   "cell_type": "markdown",
   "metadata": {},
   "source": [
    "---\n",
    "## Комментарий от наставника\n",
    "\n",
    "Портрет типичного пользователя каждого из регионов получен. Стоит визуализировать все полученные таблицы. Здорово, что отмечены индивидуальные особенности каждого региона. \n",
    "\n",
    "---"
   ]
  },
  {
   "cell_type": "markdown",
   "metadata": {},
   "source": [
    "# Проверка гипотез"
   ]
  },
  {
   "cell_type": "markdown",
   "metadata": {},
   "source": [
    "### Сформируем две выборки по платформам с проставленными рейтингами пользователей. "
   ]
  },
  {
   "cell_type": "code",
   "execution_count": null,
   "metadata": {},
   "outputs": [],
   "source": [
    "XOne  = modern_games.query('platform == \"XOne\"').dropna()"
   ]
  },
  {
   "cell_type": "code",
   "execution_count": null,
   "metadata": {},
   "outputs": [],
   "source": [
    "PC  = modern_games.query('platform == \"PC\"').dropna()"
   ]
  },
  {
   "cell_type": "markdown",
   "metadata": {},
   "source": [
    "H0: Средние пользовательские рейтинги на плафтформах одинаковые. \n",
    "\n",
    "H1: Средние пользовательские рейтинги на плафтформах различаются. "
   ]
  },
  {
   "cell_type": "code",
   "execution_count": null,
   "metadata": {},
   "outputs": [],
   "source": [
    "mean_x_score = XOne['user_score'].mean()\n",
    "\n",
    "alpha = 0.05\n",
    "\n",
    "results = st.ttest_1samp(PC['user_score'], mean_x_score)\n",
    "\n",
    "print('p-значение: ', results.pvalue)\n",
    "if (results.pvalue < alpha):\n",
    "    print(\"Отвергаем нулевую гипотезу\")\n",
    "else:\n",
    "    print(\"Не получилось отвергнуть нулевую гипотезу\")"
   ]
  },
  {
   "cell_type": "markdown",
   "metadata": {},
   "source": [
    "### Не удалось опровергнуть нулевую гипотез. Фактически средняя оценка почти не различается, небольшое различие скорее обуславливается случайным фактором. "
   ]
  },
  {
   "cell_type": "code",
   "execution_count": null,
   "metadata": {},
   "outputs": [],
   "source": [
    "mean_x_score"
   ]
  },
  {
   "cell_type": "code",
   "execution_count": null,
   "metadata": {},
   "outputs": [],
   "source": [
    "PC['user_score'].mean()"
   ]
  },
  {
   "cell_type": "markdown",
   "metadata": {},
   "source": [
    "### Сформируем две выборки по жанрам."
   ]
  },
  {
   "cell_type": "code",
   "execution_count": null,
   "metadata": {},
   "outputs": [],
   "source": [
    "act  = modern_games.query('genre == \"Action\"').dropna()\n",
    "spt  = modern_games.query('genre == \"Sports\"').dropna()\n"
   ]
  },
  {
   "cell_type": "code",
   "execution_count": null,
   "metadata": {},
   "outputs": [],
   "source": [
    "act_mean = act['user_score'].mean()\n",
    "\n",
    "alpha = 0.05\n",
    "\n",
    "results = st.ttest_1samp(spt['user_score'], act_mean)\n",
    "\n",
    "print('p-значение: ', results.pvalue)\n",
    "if (results.pvalue < alpha):\n",
    "    print(\"Отвергаем нулевую гипотезу\")\n",
    "else:\n",
    "    print(\"Не получилось отвергнуть нулевую гипотезу\")"
   ]
  },
  {
   "cell_type": "code",
   "execution_count": null,
   "metadata": {},
   "outputs": [],
   "source": [
    "act_mean"
   ]
  },
  {
   "cell_type": "code",
   "execution_count": null,
   "metadata": {},
   "outputs": [],
   "source": [
    "spt['user_score'].mean()"
   ]
  },
  {
   "cell_type": "markdown",
   "metadata": {},
   "source": [
    "### Получилось опровергнуть нулевую гипотезу - рейтинг между жанрами экшн и спорт - отличаются. И это отличие можно признать статистически значимым. "
   ]
  },
  {
   "cell_type": "markdown",
   "metadata": {},
   "source": [
    "---\n",
    "## Комментарий от наставника\n",
    "\n",
    "Гипотезы сформулированы и проверены верно.\n",
    "\n",
    "---"
   ]
  },
  {
   "cell_type": "markdown",
   "metadata": {},
   "source": [
    "# Вывод: "
   ]
  },
  {
   "cell_type": "markdown",
   "metadata": {},
   "source": [
    "Мы видем, что за все время игровая индустрия явно набирает обороты, с 80-х она приросла в общем объеме многократно, но с 2012 года объем немного упал. Но и рынок поменялся, все меньше появляется новых платформ, все больше рынок держат устоявшиеся игроки, студии стараются выпускать игры для нового поколения платформ. Старое постепенно теряет в объеме продаж и количестве игр. Важными данными задающими тренд будем считать данные за текущее десятилетие, чтобы можно было захватить хотя бы два поколения основных платформ. \n",
    "\n",
    "Самые популярные платформы - PS  и приставки Xbox. Видно, что свежее поколение (PS4 и XOne) только набираются обороты, так же впечатляет объем приставок от Nintendo, но они традиционно сосредотачиваются на локальном рынке - Японии. \n",
    "\n",
    "Можно отметить, что объем рынка сейчас падает, но нет возможности установить с чем это может быть связано. Можно предположить, что эта доля перешла во free to play игры и скорее всего их деньги и сосредоточены там, так же не стоит забывать, что за последние 10 лет сильно поменялось соотношение онлайн/офлайн игр, онлайн начинать забирать значительную часть рынка, но продажи там считают редко - многие из этих игры условно бесплатные. \n",
    "\n",
    "Так же можно отметить сильную солидарность между критиками и пользователями, скорее всего у них одинаковые критерии оценки игр, да и само общество геймеров довольно серьезно оценивает все работы студий. \n",
    "\n",
    "Больше всего люди предпочитают играть в шутеры и платформеры, так же люди любят спортивные игры и экшн. \n",
    "\n",
    "Что касается регионов, то основными являются: Япония, северная Америка, Европа. Видно, что Америка и Япония поддерживают свои платформы (Xbox и PS соответсвенно), но при это PS предпочитают европейцы (хороший у них вкус, я вот сам только с PS с 2000 года), интересно, что представители западной культуры больше любят активные и агрессивные игры (экшн, шутеры), а японцы склонны с созерцательным жанрам (RPG). \n",
    "\n",
    "\n",
    "Гипотезы: \n",
    "\n",
    "Нельзя сказать, что рейтинг на PC и XBOX  различается, что логично - обе платформы имеют практически одинаковый игровой состав. \n",
    "\n",
    "Но вот рейтинги между жанром action и sports  - различаются. Думаю, это обуславливается тем, что action лучше продается, следственно, игры с большим бюджетом стараются сделать как можно качественнее. В то время как хороших спортивных симуляторов можно пересчитать по пальцам. \n",
    "\n"
   ]
  },
  {
   "cell_type": "markdown",
   "metadata": {},
   "source": [
    "---\n",
    "## Комментарий от наставника\n",
    "\n",
    "Выводы описаны грамотно. Приведены ответы на главные вопросы проекта. В выводах можно приводить полученные ранее значения, правильно. Также можно расписать все, что было сделано в работе.  \n",
    "\n",
    "---"
   ]
  },
  {
   "cell_type": "markdown",
   "metadata": {},
   "source": [
    "## Комментарий от наставника\n",
    "\n",
    "Если тебе нравится тема визуализации, то можешь изучить другие методы библиотеки seaborn. Она позволяет строить довольно презентабельные графики.\n",
    "\n",
    "Ты проделал большую работу, молодец! Критических замечаний нет. Работа выполнена хорошо. Продолжай в том же духе :)\n",
    "\n",
    "-----"
   ]
  }
 ],
 "metadata": {
  "kernelspec": {
   "display_name": "Python 3",
   "language": "python",
   "name": "python3"
  },
  "language_info": {
   "codemirror_mode": {
    "name": "ipython",
    "version": 3
   },
   "file_extension": ".py",
   "mimetype": "text/x-python",
   "name": "python",
   "nbconvert_exporter": "python",
   "pygments_lexer": "ipython3",
   "version": "3.7.3"
  }
 },
 "nbformat": 4,
 "nbformat_minor": 2
}
